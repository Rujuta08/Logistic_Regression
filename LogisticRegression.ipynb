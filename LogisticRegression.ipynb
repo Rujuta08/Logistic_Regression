{
  "nbformat": 4,
  "nbformat_minor": 0,
  "metadata": {
    "colab": {
      "name": "Logistic Regression.ipynb",
      "provenance": [],
      "collapsed_sections": []
    },
    "kernelspec": {
      "name": "python3",
      "display_name": "Python 3"
    }
  },
  "cells": [
    {
      "cell_type": "code",
      "metadata": {
        "id": "HisDo5kd2Vr5",
        "colab_type": "code",
        "colab": {}
      },
      "source": [
        "# Logistic Regression Model\n",
        "# Planar dataset\n",
        "\n",
        "import numpy as np\n",
        "import pandas as pd\n",
        "import matplotlib.pyplot as plt\n",
        "from sklearn.datasets import load_iris\n",
        "import matplotlib.pyplot as plt\n",
        "\n",
        "%matplotlib inline"
      ],
      "execution_count": null,
      "outputs": []
    },
    {
      "cell_type": "code",
      "metadata": {
        "id": "U3QW6RXeKGIm",
        "colab_type": "code",
        "colab": {
          "base_uri": "https://localhost:8080/",
          "height": 34
        },
        "outputId": "8f70a0ea-fe7f-4926-938d-fe2e8f493383"
      },
      "source": [
        "iris = load_iris()\n",
        "# Taking only two features in consideration\n",
        "X = iris.data[:,:2]\n",
        "Y = (iris.target != 0)*1\n",
        "labels = Y.reshape([Y.shape[0],1]) \n",
        "X.shape, labels.shape"
      ],
      "execution_count": null,
      "outputs": [
        {
          "output_type": "execute_result",
          "data": {
            "text/plain": [
              "((150, 2), (150, 1))"
            ]
          },
          "metadata": {
            "tags": []
          },
          "execution_count": 25
        }
      ]
    },
    {
      "cell_type": "code",
      "metadata": {
        "id": "NLOiI8OLPNdF",
        "colab_type": "code",
        "colab": {
          "base_uri": "https://localhost:8080/",
          "height": 285
        },
        "outputId": "1e0a133b-962f-4234-d60c-49507711962c"
      },
      "source": [
        "# Plot iris data\n",
        "plt.scatter(X[:,0],X[:,1], c = Y)"
      ],
      "execution_count": null,
      "outputs": [
        {
          "output_type": "execute_result",
          "data": {
            "text/plain": [
              "<matplotlib.collections.PathCollection at 0x7fb3d00156d8>"
            ]
          },
          "metadata": {
            "tags": []
          },
          "execution_count": 57
        },
        {
          "output_type": "display_data",
          "data": {
            "image/png": "[encoded data removed]",
            "text/plain": [
              "<Figure size 432x288 with 1 Axes>"
            ]
          },
          "metadata": {
            "tags": [],
            "needs_background": "light"
          }
        }
      ]
    },
    {
      "cell_type": "code",
      "metadata": {
        "id": "MwrwRgW8B9Gd",
        "colab_type": "code",
        "colab": {}
      },
      "source": [
        "def sigmoid_fn(z) :\n",
        "  return 1.0/(1 + np.exp(-z))\n",
        "\n",
        "def addintercept(X):\n",
        "  \"\"\"\n",
        "  Input:\n",
        "  X - input matrix of shape (m,nx-1)\n",
        "\n",
        "  Returns:\n",
        "  X - matrix of shape (m , nx)\n",
        "  \"\"\"\n",
        "  b = np.ones((X.shape[0],1))\n",
        "  return (np.concatenate((X,b), axis = 1))\n",
        "\n",
        "def updation(X,Y,W,learning_rate):\n",
        "  \"\"\"\n",
        "  Inputs:\n",
        "  X - input matrix of shape (m, nx)\n",
        "  Y - output labels of shape (m, 1)\n",
        "  W - weight matrix of shape (nx, 1)\n",
        "  learning_rate - float\n",
        "\n",
        "  Returns:\n",
        "  W - updated weight of shape (nx,1)\n",
        "  \"\"\"\n",
        "  Z = np.dot(X,W)\n",
        "  A = sigmoid_fn(Z)\n",
        "  dZ = A - Y\n",
        "  dW = np.dot(X.T, dZ) / (X.shape[0])\n",
        "  W -= learning_rate * dW\n",
        "  return W\n"
      ],
      "execution_count": null,
      "outputs": []
    },
    {
      "cell_type": "code",
      "metadata": {
        "id": "FvNYXJVpLnOi",
        "colab_type": "code",
        "colab": {}
      },
      "source": [
        "def logistic_Regression(X,Y,learning_rate,iterations = 30000, add_intercept = True):\n",
        "  if add_intercept:\n",
        "    X = addintercept(X)\n",
        "\n",
        "  #Initialize Weights\n",
        "  W = np.zeros((X.shape[1],1))\n",
        "  for i in range(iterations):\n",
        "    Wnew = updation(X,Y,W,learning_rate)\n",
        "    W = Wnew\n",
        "\n",
        "  return W"
      ],
      "execution_count": null,
      "outputs": []
    },
    {
      "cell_type": "code",
      "metadata": {
        "id": "r2TodeoXTojB",
        "colab_type": "code",
        "colab": {}
      },
      "source": [
        "weights = logistic_Regression(X, labels, 0.01, 30000, True)"
      ],
      "execution_count": null,
      "outputs": []
    },
    {
      "cell_type": "code",
      "metadata": {
        "id": "Vx8ZsayYXAyl",
        "colab_type": "code",
        "colab": {
          "base_uri": "https://localhost:8080/",
          "height": 69
        },
        "outputId": "ec536ccb-6c4d-488d-989d-6d70e336f23c"
      },
      "source": [
        "print (weights)"
      ],
      "execution_count": null,
      "outputs": [
        {
          "output_type": "stream",
          "text": [
            "[[ 4.25484895]\n",
            " [-6.89384814]\n",
            " [-1.44883626]]\n"
          ],
          "name": "stdout"
        }
      ]
    },
    {
      "cell_type": "code",
      "metadata": {
        "id": "z1nhC67OWRBo",
        "colab_type": "code",
        "colab": {
          "base_uri": "https://localhost:8080/",
          "height": 34
        },
        "outputId": "7f327757-2197-44e6-d698-07694e15857a"
      },
      "source": [
        "from sklearn.metrics import accuracy_score\n",
        "x = addintercept(X)\n",
        "a = sigmoid_fn(np.dot(x, weights))\n",
        "y_pred = map(lambda a: 1 if a >= 0.5 else 0, a)\n",
        "y_pred = np.array(list(y_pred))\n",
        "print('Training Accuracy:', accuracy_score(labels, y_pred)) "
      ],
      "execution_count": null,
      "outputs": [
        {
          "output_type": "stream",
          "text": [
            "Training Accuracy: 0.9933333333333333\n"
          ],
          "name": "stdout"
        }
      ]
    },
    {
      "cell_type": "code",
      "metadata": {
        "id": "Ry0nzMeeyRNK",
        "colab_type": "code",
        "colab": {
          "base_uri": "https://localhost:8080/",
          "height": 86
        },
        "outputId": "7eaae83d-4fee-4d3d-da68-9f81a6cada14"
      },
      "source": [
        "#Though trained models should not judged based on their training accuracy but this atleast tells us that the model learned something\n",
        "#Comparing against sklearn's implementation\n",
        "from sklearn.linear_model import LogisticRegression\n",
        "# putting C to a very high value to discard regularization as we have not added regularization term\n",
        "mdl = LogisticRegression(C=1e15, max_iter =30000)\n",
        "mdl.fit(X, Y)\n",
        "print(mdl.coef_, mdl.intercept_)\n",
        "print(weights)"
      ],
      "execution_count": null,
      "outputs": [
        {
          "output_type": "stream",
          "text": [
            "[[ 134.80324317 -147.37951529]] [-276.6772754]\n",
            "[[ 4.25484895]\n",
            " [-6.89384814]\n",
            " [-1.44883626]]\n"
          ],
          "name": "stdout"
        }
      ]
    }
  ]
}